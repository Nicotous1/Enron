{
 "cells": [
  {
   "cell_type": "markdown",
   "metadata": {},
   "source": [
    "This is a draft"
   ]
  },
  {
   "cell_type": "code",
   "execution_count": 1,
   "metadata": {
    "collapsed": true
   },
   "outputs": [],
   "source": [
    "import pandas as pd"
   ]
  },
  {
   "cell_type": "markdown",
   "metadata": {},
   "source": [
    "# Email Analysis"
   ]
  },
  {
   "cell_type": "code",
   "execution_count": 26,
   "metadata": {},
   "outputs": [],
   "source": [
    "emails = pd.read_pickle(\"data/emails.pickle\")[[\"email\"]]"
   ]
  },
  {
   "cell_type": "code",
   "execution_count": 8,
   "metadata": {},
   "outputs": [],
   "source": [
    "def get_domain(x):\n",
    "    pos = x.find(\"@\")\n",
    "    return x[(pos+1):] if (0 <= pos) else False"
   ]
  },
  {
   "cell_type": "code",
   "execution_count": 29,
   "metadata": {},
   "outputs": [],
   "source": [
    "emails[\"domains\"] = emails.email.apply(get_domain)"
   ]
  },
  {
   "cell_type": "code",
   "execution_count": 45,
   "metadata": {},
   "outputs": [
    {
     "data": {
      "text/plain": [
       "enron.com            29333\n",
       "aol.com               3016\n",
       "hotmail.com           1804\n",
       "yahoo.com             1258\n",
       "haas.berkeley.edu      648\n",
       "Name: domains, dtype: int64"
      ]
     },
     "execution_count": 45,
     "metadata": {},
     "output_type": "execute_result"
    }
   ],
   "source": [
    "emails.domains.value_counts().head()"
   ]
  },
  {
   "cell_type": "code",
   "execution_count": 35,
   "metadata": {},
   "outputs": [],
   "source": [
    "rs = pd.read_pickle(\"data/recipients.pickle\")"
   ]
  },
  {
   "cell_type": "code",
   "execution_count": 39,
   "metadata": {},
   "outputs": [
    {
     "data": {
      "text/html": [
       "<div>\n",
       "<style>\n",
       "    .dataframe thead tr:only-child th {\n",
       "        text-align: right;\n",
       "    }\n",
       "\n",
       "    .dataframe thead th {\n",
       "        text-align: left;\n",
       "    }\n",
       "\n",
       "    .dataframe tbody tr th {\n",
       "        vertical-align: top;\n",
       "    }\n",
       "</style>\n",
       "<table border=\"1\" class=\"dataframe\">\n",
       "  <thead>\n",
       "    <tr style=\"text-align: right;\">\n",
       "      <th></th>\n",
       "      <th>m_id</th>\n",
       "      <th>e_id</th>\n",
       "      <th>type</th>\n",
       "    </tr>\n",
       "    <tr>\n",
       "      <th>r_id</th>\n",
       "      <th></th>\n",
       "      <th></th>\n",
       "      <th></th>\n",
       "    </tr>\n",
       "  </thead>\n",
       "  <tbody>\n",
       "    <tr>\n",
       "      <th>67</th>\n",
       "      <td>52</td>\n",
       "      <td>17675</td>\n",
       "      <td>TO</td>\n",
       "    </tr>\n",
       "    <tr>\n",
       "      <th>68</th>\n",
       "      <td>53</td>\n",
       "      <td>17676</td>\n",
       "      <td>TO</td>\n",
       "    </tr>\n",
       "    <tr>\n",
       "      <th>69</th>\n",
       "      <td>54</td>\n",
       "      <td>17677</td>\n",
       "      <td>TO</td>\n",
       "    </tr>\n",
       "    <tr>\n",
       "      <th>70</th>\n",
       "      <td>55</td>\n",
       "      <td>17675</td>\n",
       "      <td>TO</td>\n",
       "    </tr>\n",
       "    <tr>\n",
       "      <th>71</th>\n",
       "      <td>56</td>\n",
       "      <td>17678</td>\n",
       "      <td>TO</td>\n",
       "    </tr>\n",
       "  </tbody>\n",
       "</table>\n",
       "</div>"
      ],
      "text/plain": [
       "      m_id   e_id type\n",
       "r_id                  \n",
       "67      52  17675   TO\n",
       "68      53  17676   TO\n",
       "69      54  17677   TO\n",
       "70      55  17675   TO\n",
       "71      56  17678   TO"
      ]
     },
     "execution_count": 39,
     "metadata": {},
     "output_type": "execute_result"
    }
   ],
   "source": [
    "rs.head()"
   ]
  },
  {
   "cell_type": "code",
   "execution_count": 46,
   "metadata": {},
   "outputs": [
    {
     "data": {
      "text/html": [
       "<div>\n",
       "<style>\n",
       "    .dataframe thead tr:only-child th {\n",
       "        text-align: right;\n",
       "    }\n",
       "\n",
       "    .dataframe thead th {\n",
       "        text-align: left;\n",
       "    }\n",
       "\n",
       "    .dataframe tbody tr th {\n",
       "        vertical-align: top;\n",
       "    }\n",
       "</style>\n",
       "<table border=\"1\" class=\"dataframe\">\n",
       "  <thead>\n",
       "    <tr style=\"text-align: right;\">\n",
       "      <th></th>\n",
       "      <th>m_id</th>\n",
       "      <th>email</th>\n",
       "      <th>domains</th>\n",
       "    </tr>\n",
       "    <tr>\n",
       "      <th>e_id</th>\n",
       "      <th></th>\n",
       "      <th></th>\n",
       "      <th></th>\n",
       "    </tr>\n",
       "  </thead>\n",
       "  <tbody>\n",
       "    <tr>\n",
       "      <th>73</th>\n",
       "      <td>11094</td>\n",
       "      <td>jeff.dasovich@enron.com</td>\n",
       "      <td>enron.com</td>\n",
       "    </tr>\n",
       "    <tr>\n",
       "      <th>225</th>\n",
       "      <td>10844</td>\n",
       "      <td>richard.shapiro@enron.com</td>\n",
       "      <td>enron.com</td>\n",
       "    </tr>\n",
       "    <tr>\n",
       "      <th>260</th>\n",
       "      <td>10803</td>\n",
       "      <td>steven.j.kean@enron.com</td>\n",
       "      <td>enron.com</td>\n",
       "    </tr>\n",
       "    <tr>\n",
       "      <th>61</th>\n",
       "      <td>10518</td>\n",
       "      <td>james.d.steffes@enron.com</td>\n",
       "      <td>enron.com</td>\n",
       "    </tr>\n",
       "    <tr>\n",
       "      <th>457</th>\n",
       "      <td>9813</td>\n",
       "      <td>no.address@enron.com</td>\n",
       "      <td>enron.com</td>\n",
       "    </tr>\n",
       "  </tbody>\n",
       "</table>\n",
       "</div>"
      ],
      "text/plain": [
       "       m_id                      email    domains\n",
       "e_id                                             \n",
       "73    11094    jeff.dasovich@enron.com  enron.com\n",
       "225   10844  richard.shapiro@enron.com  enron.com\n",
       "260   10803    steven.j.kean@enron.com  enron.com\n",
       "61    10518  james.d.steffes@enron.com  enron.com\n",
       "457    9813       no.address@enron.com  enron.com"
      ]
     },
     "execution_count": 46,
     "metadata": {},
     "output_type": "execute_result"
    }
   ],
   "source": [
    "rs[[\"m_id\", \"e_id\"]].groupby(\"e_id\").count().sort_values(\"m_id\", ascending = False).join(emails).head()"
   ]
  },
  {
   "cell_type": "code",
   "execution_count": 47,
   "metadata": {
    "collapsed": true
   },
   "outputs": [],
   "source": [
    "ms = pd.read_pickle(\"data/messages.pickle\")"
   ]
  },
  {
   "cell_type": "code",
   "execution_count": 53,
   "metadata": {},
   "outputs": [
    {
     "data": {
      "text/html": [
       "<div>\n",
       "<style>\n",
       "    .dataframe thead tr:only-child th {\n",
       "        text-align: right;\n",
       "    }\n",
       "\n",
       "    .dataframe thead th {\n",
       "        text-align: left;\n",
       "    }\n",
       "\n",
       "    .dataframe tbody tr th {\n",
       "        vertical-align: top;\n",
       "    }\n",
       "</style>\n",
       "<table border=\"1\" class=\"dataframe\">\n",
       "  <thead>\n",
       "    <tr style=\"text-align: right;\">\n",
       "      <th></th>\n",
       "      <th>e_id</th>\n",
       "      <th>date</th>\n",
       "      <th>subject</th>\n",
       "      <th>body</th>\n",
       "      <th>folder</th>\n",
       "    </tr>\n",
       "    <tr>\n",
       "      <th>m_id</th>\n",
       "      <th></th>\n",
       "      <th></th>\n",
       "      <th></th>\n",
       "      <th></th>\n",
       "      <th></th>\n",
       "    </tr>\n",
       "  </thead>\n",
       "  <tbody>\n",
       "    <tr>\n",
       "      <th>52</th>\n",
       "      <td>297</td>\n",
       "      <td>2000-01-21 04:51:00</td>\n",
       "      <td>ENRON HOSTS ANNUAL ANALYST CONFERENCE PROVIDES...</td>\n",
       "      <td>HOUSTON - Enron Corp. hosted its annual equity...</td>\n",
       "      <td>Robert_Badeer_Aug2000Notes FoldersPress releases</td>\n",
       "    </tr>\n",
       "  </tbody>\n",
       "</table>\n",
       "</div>"
      ],
      "text/plain": [
       "      e_id                 date  \\\n",
       "m_id                              \n",
       "52     297  2000-01-21 04:51:00   \n",
       "\n",
       "                                                subject  \\\n",
       "m_id                                                      \n",
       "52    ENRON HOSTS ANNUAL ANALYST CONFERENCE PROVIDES...   \n",
       "\n",
       "                                                   body  \\\n",
       "m_id                                                      \n",
       "52    HOUSTON - Enron Corp. hosted its annual equity...   \n",
       "\n",
       "                                                folder  \n",
       "m_id                                                    \n",
       "52    Robert_Badeer_Aug2000Notes FoldersPress releases  "
      ]
     },
     "execution_count": 53,
     "metadata": {},
     "output_type": "execute_result"
    }
   ],
   "source": [
    "ms.head(1)"
   ]
  },
  {
   "cell_type": "code",
   "execution_count": 64,
   "metadata": {},
   "outputs": [
    {
     "data": {
      "text/html": [
       "<div>\n",
       "<style>\n",
       "    .dataframe thead tr:only-child th {\n",
       "        text-align: right;\n",
       "    }\n",
       "\n",
       "    .dataframe thead th {\n",
       "        text-align: left;\n",
       "    }\n",
       "\n",
       "    .dataframe tbody tr th {\n",
       "        vertical-align: top;\n",
       "    }\n",
       "</style>\n",
       "<table border=\"1\" class=\"dataframe\">\n",
       "  <thead>\n",
       "    <tr style=\"text-align: right;\">\n",
       "      <th></th>\n",
       "      <th>date</th>\n",
       "      <th>email</th>\n",
       "      <th>domains</th>\n",
       "    </tr>\n",
       "    <tr>\n",
       "      <th>e_id</th>\n",
       "      <th></th>\n",
       "      <th></th>\n",
       "      <th></th>\n",
       "    </tr>\n",
       "  </thead>\n",
       "  <tbody>\n",
       "    <tr>\n",
       "      <th>73</th>\n",
       "      <td>6273</td>\n",
       "      <td>jeff.dasovich@enron.com</td>\n",
       "      <td>enron.com</td>\n",
       "    </tr>\n",
       "    <tr>\n",
       "      <th>292</th>\n",
       "      <td>5838</td>\n",
       "      <td>j.kaminski@enron.com</td>\n",
       "      <td>enron.com</td>\n",
       "    </tr>\n",
       "    <tr>\n",
       "      <th>15</th>\n",
       "      <td>5100</td>\n",
       "      <td>kay.mann@enron.com</td>\n",
       "      <td>enron.com</td>\n",
       "    </tr>\n",
       "    <tr>\n",
       "      <th>241</th>\n",
       "      <td>4797</td>\n",
       "      <td>sara.shackleton@enron.com</td>\n",
       "      <td>enron.com</td>\n",
       "    </tr>\n",
       "    <tr>\n",
       "      <th>277</th>\n",
       "      <td>4437</td>\n",
       "      <td>tana.jones@enron.com</td>\n",
       "      <td>enron.com</td>\n",
       "    </tr>\n",
       "  </tbody>\n",
       "</table>\n",
       "</div>"
      ],
      "text/plain": [
       "      date                      email    domains\n",
       "e_id                                            \n",
       "73    6273    jeff.dasovich@enron.com  enron.com\n",
       "292   5838       j.kaminski@enron.com  enron.com\n",
       "15    5100         kay.mann@enron.com  enron.com\n",
       "241   4797  sara.shackleton@enron.com  enron.com\n",
       "277   4437       tana.jones@enron.com  enron.com"
      ]
     },
     "execution_count": 64,
     "metadata": {},
     "output_type": "execute_result"
    }
   ],
   "source": [
    "ms.groupby(\"e_id\").count()[[\"date\"]].sort_values(\"date\", ascending = False).join(emails).head()"
   ]
  }
 ],
 "metadata": {
  "kernelspec": {
   "display_name": "Python 3",
   "language": "python",
   "name": "python3"
  },
  "language_info": {
   "codemirror_mode": {
    "name": "ipython",
    "version": 3
   },
   "file_extension": ".py",
   "mimetype": "text/x-python",
   "name": "python",
   "nbconvert_exporter": "python",
   "pygments_lexer": "ipython3",
   "version": "3.6.3"
  }
 },
 "nbformat": 4,
 "nbformat_minor": 2
}
