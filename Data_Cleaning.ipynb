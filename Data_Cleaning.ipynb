{
 "cells": [
  {
   "cell_type": "markdown",
   "metadata": {},
   "source": [
    "The aim is to reduce the weight of the database."
   ]
  },
  {
   "cell_type": "code",
   "execution_count": 1,
   "metadata": {
    "collapsed": true
   },
   "outputs": [],
   "source": [
    "import pandas as pd\n",
    "import numpy as np\n",
    "import pickle"
   ]
  },
  {
   "cell_type": "markdown",
   "metadata": {},
   "source": [
    "# Utilities"
   ]
  },
  {
   "cell_type": "code",
   "execution_count": 2,
   "metadata": {},
   "outputs": [],
   "source": [
    "#\n",
    "#  Dataframe utilities\n",
    "#\n",
    "\n",
    "path_data = \"data/\"\n",
    "\n",
    "def col_perc(df, col):\n",
    "    print(str(round(df[col].nunique()/df.shape[0]*100, 2)) + \"%\")\n",
    "    \n",
    "def get_save(df_raw, df):\n",
    "    print(str(round(df.memory_usage(deep = True).sum()/df_raw.memory_usage(deep = True).sum()*100,2))\\\n",
    "          + \"% of raw !\")\n",
    "\n",
    "def get(name):\n",
    "    return pd.read_csv(path_data + name + \".csv\")\n",
    "\n",
    "def save(df, name):\n",
    "    path = path_data + name + \".pickle\"\n",
    "    return pickle.dump(df, open(path,\"wb\"))\n",
    "\n",
    "    \n",
    "\n",
    "\n",
    "#\n",
    "#  Emails to foreign key utilities\n",
    "#\n",
    "\n",
    "emails = pd.DataFrame(columns = [\"email\", \"emp_id\"])\n",
    "\n",
    "def add_emails(data):\n",
    "    global emails\n",
    "    data = np.array(data)\n",
    "    k = len(data.shape)\n",
    "    if k == 1:\n",
    "        temp = pd.DataFrame(data, columns = [\"email\"])\n",
    "        temp[\"emp_id\"] = pd.Series(0, index = temp.index)\n",
    "    elif k == 2:\n",
    "        temp = pd.DataFrame(data, columns = emails.columns.values)\n",
    "    else:\n",
    "        raise ValueError(\"Data is not shape for emails !\")\n",
    "    \n",
    "    new_emails = temp.loc[~temp.email.isin(emails.email)].drop_duplicates()\n",
    "    emails = emails.append(new_emails, ignore_index=True)\n",
    "    emails = emails.astype({\"emp_id\" : np.uint32})\n",
    "    emails.index.name = \"e_id\"\n",
    "    \n",
    "    print(str(new_emails.shape[0]) + \" emails added from \" + str(temp.shape[0])\\\n",
    "          + \" emails given (\"+str(emails.shape[0])+\" in memory).\")\n",
    "    \n",
    "def update_emails(df, col):\n",
    "    email_keys = dict(zip(emails.email.values, emails.index))\n",
    "    df[col] = df[col].apply(lambda x : email_keys[x])\n",
    "    df = df.rename(columns = {col: \"e_id\"})\n",
    "    df = df.astype({\"e_id\" : np.uint32})\n",
    "    return df\n",
    "    \n",
    "    "
   ]
  },
  {
   "cell_type": "markdown",
   "metadata": {},
   "source": [
    "# Employees"
   ]
  },
  {
   "cell_type": "code",
   "execution_count": 3,
   "metadata": {},
   "outputs": [
    {
     "name": "stdout",
     "output_type": "stream",
     "text": [
      "297 emails added from 297 emails given (297 in memory).\n",
      "31.4% of raw !\n"
     ]
    },
    {
     "data": {
      "text/html": [
       "<div>\n",
       "<style>\n",
       "    .dataframe thead tr:only-child th {\n",
       "        text-align: right;\n",
       "    }\n",
       "\n",
       "    .dataframe thead th {\n",
       "        text-align: left;\n",
       "    }\n",
       "\n",
       "    .dataframe tbody tr th {\n",
       "        vertical-align: top;\n",
       "    }\n",
       "</style>\n",
       "<table border=\"1\" class=\"dataframe\">\n",
       "  <thead>\n",
       "    <tr style=\"text-align: right;\">\n",
       "      <th></th>\n",
       "      <th>firstName</th>\n",
       "      <th>lastName</th>\n",
       "      <th>folder</th>\n",
       "      <th>status</th>\n",
       "    </tr>\n",
       "    <tr>\n",
       "      <th>emp_id</th>\n",
       "      <th></th>\n",
       "      <th></th>\n",
       "      <th></th>\n",
       "      <th></th>\n",
       "    </tr>\n",
       "  </thead>\n",
       "  <tbody>\n",
       "    <tr>\n",
       "      <th>13</th>\n",
       "      <td>Marie</td>\n",
       "      <td>Heard</td>\n",
       "      <td>heard-m</td>\n",
       "      <td>NaN</td>\n",
       "    </tr>\n",
       "    <tr>\n",
       "      <th>6</th>\n",
       "      <td>Mark</td>\n",
       "      <td>Taylor</td>\n",
       "      <td>taylor-m</td>\n",
       "      <td>Employee</td>\n",
       "    </tr>\n",
       "    <tr>\n",
       "      <th>19</th>\n",
       "      <td>Lindy</td>\n",
       "      <td>Donoho</td>\n",
       "      <td>donoho-l</td>\n",
       "      <td>Employee</td>\n",
       "    </tr>\n",
       "    <tr>\n",
       "      <th>115</th>\n",
       "      <td>Lisa</td>\n",
       "      <td>Gang</td>\n",
       "      <td>gang-l</td>\n",
       "      <td>NaN</td>\n",
       "    </tr>\n",
       "    <tr>\n",
       "      <th>129</th>\n",
       "      <td>Jeffrey</td>\n",
       "      <td>Skilling</td>\n",
       "      <td>skilling-j</td>\n",
       "      <td>CEO</td>\n",
       "    </tr>\n",
       "  </tbody>\n",
       "</table>\n",
       "</div>"
      ],
      "text/plain": [
       "       firstName  lastName      folder    status\n",
       "emp_id                                          \n",
       "13         Marie     Heard     heard-m       NaN\n",
       "6           Mark    Taylor    taylor-m  Employee\n",
       "19         Lindy    Donoho    donoho-l  Employee\n",
       "115         Lisa      Gang      gang-l       NaN\n",
       "129      Jeffrey  Skilling  skilling-j       CEO"
      ]
     },
     "execution_count": 3,
     "metadata": {},
     "output_type": "execute_result"
    }
   ],
   "source": [
    "emp_raw = get(\"raw_employeelist\")\n",
    "emp = emp_raw.rename(columns = {\"eid\" : \"emp_id\"})\n",
    "emp = emp.astype({\"status\" : \"category\"})\n",
    "emp = emp.set_index(\"emp_id\")\n",
    "emp = emp.drop_duplicates()\n",
    "\n",
    "# Append mails with employee from employeelist\n",
    "res = []\n",
    "cols = [\"Email_id\", \"Email2\", \"Email3\", \"EMail4\"]\n",
    "for index, row in emp.iterrows():\n",
    "    for col in cols:\n",
    "        x = row[col]\n",
    "        if (x == x):\n",
    "            res.append([x,index])\n",
    "add_emails(res)\n",
    "\n",
    "# Removing emails columns\n",
    "emp = emp[[\"firstName\", \"lastName\", \"folder\", \"status\"]]\n",
    "\n",
    "#Save\n",
    "save(emp, \"employees\")\n",
    "\n",
    "#Show\n",
    "get_save(emp_raw, emp)\n",
    "emp.head()"
   ]
  },
  {
   "cell_type": "markdown",
   "metadata": {},
   "source": [
    "# Messages"
   ]
  },
  {
   "cell_type": "code",
   "execution_count": 4,
   "metadata": {},
   "outputs": [
    {
     "name": "stdout",
     "output_type": "stream",
     "text": [
      "17378 emails added from 252755 emails given (17675 in memory).\n",
      "87.97% of raw !\n"
     ]
    },
    {
     "data": {
      "text/html": [
       "<div>\n",
       "<style>\n",
       "    .dataframe thead tr:only-child th {\n",
       "        text-align: right;\n",
       "    }\n",
       "\n",
       "    .dataframe thead th {\n",
       "        text-align: left;\n",
       "    }\n",
       "\n",
       "    .dataframe tbody tr th {\n",
       "        vertical-align: top;\n",
       "    }\n",
       "</style>\n",
       "<table border=\"1\" class=\"dataframe\">\n",
       "  <thead>\n",
       "    <tr style=\"text-align: right;\">\n",
       "      <th></th>\n",
       "      <th>e_id</th>\n",
       "      <th>date</th>\n",
       "      <th>subject</th>\n",
       "      <th>body</th>\n",
       "      <th>folder</th>\n",
       "    </tr>\n",
       "    <tr>\n",
       "      <th>m_id</th>\n",
       "      <th></th>\n",
       "      <th></th>\n",
       "      <th></th>\n",
       "      <th></th>\n",
       "      <th></th>\n",
       "    </tr>\n",
       "  </thead>\n",
       "  <tbody>\n",
       "    <tr>\n",
       "      <th>52</th>\n",
       "      <td>297</td>\n",
       "      <td>2000-01-21 04:51:00</td>\n",
       "      <td>ENRON HOSTS ANNUAL ANALYST CONFERENCE PROVIDES...</td>\n",
       "      <td>HOUSTON - Enron Corp. hosted its annual equity...</td>\n",
       "      <td>Robert_Badeer_Aug2000Notes FoldersPress releases</td>\n",
       "    </tr>\n",
       "    <tr>\n",
       "      <th>53</th>\n",
       "      <td>298</td>\n",
       "      <td>2000-01-24 01:37:00</td>\n",
       "      <td>Over $50 -- You made it happen!</td>\n",
       "      <td>On Wall Street, people are talking about Enron...</td>\n",
       "      <td>Robert_Badeer_Aug2000Notes FoldersPress releases</td>\n",
       "    </tr>\n",
       "  </tbody>\n",
       "</table>\n",
       "</div>"
      ],
      "text/plain": [
       "      e_id                 date  \\\n",
       "m_id                              \n",
       "52     297  2000-01-21 04:51:00   \n",
       "53     298  2000-01-24 01:37:00   \n",
       "\n",
       "                                                subject  \\\n",
       "m_id                                                      \n",
       "52    ENRON HOSTS ANNUAL ANALYST CONFERENCE PROVIDES...   \n",
       "53                      Over $50 -- You made it happen!   \n",
       "\n",
       "                                                   body  \\\n",
       "m_id                                                      \n",
       "52    HOUSTON - Enron Corp. hosted its annual equity...   \n",
       "53    On Wall Street, people are talking about Enron...   \n",
       "\n",
       "                                                folder  \n",
       "m_id                                                    \n",
       "52    Robert_Badeer_Aug2000Notes FoldersPress releases  \n",
       "53    Robert_Badeer_Aug2000Notes FoldersPress releases  "
      ]
     },
     "execution_count": 4,
     "metadata": {},
     "output_type": "execute_result"
    }
   ],
   "source": [
    "mes_raw = get(\"raw_message\")\n",
    "mes = mes_raw.rename(columns = {\"mid\" : \"m_id\"})\n",
    "mes = mes.set_index(\"m_id\")\n",
    "mes = mes[[\"sender\", \"date\", \"subject\", \"body\", \"folder\"]]\n",
    "mes = mes.astype({\"folder\" : \"category\"})\n",
    "mes = mes.drop_duplicates()\n",
    "\n",
    "# Handling emails\n",
    "add_emails(mes.sender.values)\n",
    "mes = update_emails(mes, \"sender\")\n",
    "\n",
    "#Save\n",
    "save(mes, \"messages\")\n",
    "\n",
    "\n",
    "#Show\n",
    "get_save(mes_raw, mes)\n",
    "mes.head(2)"
   ]
  },
  {
   "cell_type": "markdown",
   "metadata": {},
   "source": [
    "# Recipientinfo"
   ]
  },
  {
   "cell_type": "code",
   "execution_count": 5,
   "metadata": {},
   "outputs": [
    {
     "name": "stdout",
     "output_type": "stream",
     "text": [
      "57889 emails added from 2041168 emails given (75564 in memory).\n",
      "10.35% of raw !\n"
     ]
    },
    {
     "data": {
      "text/html": [
       "<div>\n",
       "<style>\n",
       "    .dataframe thead tr:only-child th {\n",
       "        text-align: right;\n",
       "    }\n",
       "\n",
       "    .dataframe thead th {\n",
       "        text-align: left;\n",
       "    }\n",
       "\n",
       "    .dataframe tbody tr th {\n",
       "        vertical-align: top;\n",
       "    }\n",
       "</style>\n",
       "<table border=\"1\" class=\"dataframe\">\n",
       "  <thead>\n",
       "    <tr style=\"text-align: right;\">\n",
       "      <th></th>\n",
       "      <th>m_id</th>\n",
       "      <th>e_id</th>\n",
       "      <th>type</th>\n",
       "    </tr>\n",
       "    <tr>\n",
       "      <th>r_id</th>\n",
       "      <th></th>\n",
       "      <th></th>\n",
       "      <th></th>\n",
       "    </tr>\n",
       "  </thead>\n",
       "  <tbody>\n",
       "    <tr>\n",
       "      <th>67</th>\n",
       "      <td>52</td>\n",
       "      <td>17675</td>\n",
       "      <td>TO</td>\n",
       "    </tr>\n",
       "    <tr>\n",
       "      <th>68</th>\n",
       "      <td>53</td>\n",
       "      <td>17676</td>\n",
       "      <td>TO</td>\n",
       "    </tr>\n",
       "    <tr>\n",
       "      <th>69</th>\n",
       "      <td>54</td>\n",
       "      <td>17677</td>\n",
       "      <td>TO</td>\n",
       "    </tr>\n",
       "    <tr>\n",
       "      <th>70</th>\n",
       "      <td>55</td>\n",
       "      <td>17675</td>\n",
       "      <td>TO</td>\n",
       "    </tr>\n",
       "    <tr>\n",
       "      <th>71</th>\n",
       "      <td>56</td>\n",
       "      <td>17678</td>\n",
       "      <td>TO</td>\n",
       "    </tr>\n",
       "  </tbody>\n",
       "</table>\n",
       "</div>"
      ],
      "text/plain": [
       "      m_id   e_id type\n",
       "r_id                  \n",
       "67      52  17675   TO\n",
       "68      53  17676   TO\n",
       "69      54  17677   TO\n",
       "70      55  17675   TO\n",
       "71      56  17678   TO"
      ]
     },
     "execution_count": 5,
     "metadata": {},
     "output_type": "execute_result"
    }
   ],
   "source": [
    "rec_raw = get(\"raw_recipientinfo\")\n",
    "rec = rec_raw.rename(columns = {\"rvalue\" : \"email\", \"rid\" : \"r_id\", \"mid\" : \"m_id\", \"rtype\" : \"type\"})\n",
    "rec = rec.astype({\"r_id\" : np.uint32, \"m_id\" : np.uint32, \"type\" : \"category\"})\n",
    "rec = rec.set_index(\"r_id\")\n",
    "rec = rec[[\"m_id\", \"email\", \"type\"]]\n",
    "rec = rec.drop_duplicates()\n",
    "\n",
    "# Handling emails\n",
    "add_emails(rec.email)\n",
    "rec = update_emails(rec, \"email\")\n",
    "\n",
    "#Save\n",
    "save(rec, \"recipients\")\n",
    "\n",
    "\n",
    "get_save(rec_raw, rec)\n",
    "rec.head()"
   ]
  },
  {
   "cell_type": "markdown",
   "metadata": {},
   "source": [
    "# Reference"
   ]
  },
  {
   "cell_type": "code",
   "execution_count": 6,
   "metadata": {},
   "outputs": [
    {
     "name": "stdout",
     "output_type": "stream",
     "text": [
      "99.78% of raw !\n"
     ]
    },
    {
     "data": {
      "text/html": [
       "<div>\n",
       "<style>\n",
       "    .dataframe thead tr:only-child th {\n",
       "        text-align: right;\n",
       "    }\n",
       "\n",
       "    .dataframe thead th {\n",
       "        text-align: left;\n",
       "    }\n",
       "\n",
       "    .dataframe tbody tr th {\n",
       "        vertical-align: top;\n",
       "    }\n",
       "</style>\n",
       "<table border=\"1\" class=\"dataframe\">\n",
       "  <thead>\n",
       "    <tr style=\"text-align: right;\">\n",
       "      <th></th>\n",
       "      <th>m_id</th>\n",
       "      <th>content</th>\n",
       "    </tr>\n",
       "    <tr>\n",
       "      <th>rf_id</th>\n",
       "      <th></th>\n",
       "      <th></th>\n",
       "    </tr>\n",
       "  </thead>\n",
       "  <tbody>\n",
       "    <tr>\n",
       "      <th>2</th>\n",
       "      <td>79</td>\n",
       "      <td>&gt; From: Le Vine, Debi&gt; Sent: Thursday, August ...</td>\n",
       "    </tr>\n",
       "    <tr>\n",
       "      <th>3</th>\n",
       "      <td>99</td>\n",
       "      <td>&gt; From: Golden, Mark&gt; Sent: Thursday, August 2...</td>\n",
       "    </tr>\n",
       "    <tr>\n",
       "      <th>8</th>\n",
       "      <td>533</td>\n",
       "      <td>From: Sole, JeanneSent: Friday, August 18, 200...</td>\n",
       "    </tr>\n",
       "    <tr>\n",
       "      <th>13</th>\n",
       "      <td>842</td>\n",
       "      <td>From: \\tGrigsby, Mike  Sent:\\tThursday, March ...</td>\n",
       "    </tr>\n",
       "    <tr>\n",
       "      <th>14</th>\n",
       "      <td>845</td>\n",
       "      <td>From: Monaco, John [EM] [mailto:john.monaco@ci...</td>\n",
       "    </tr>\n",
       "  </tbody>\n",
       "</table>\n",
       "</div>"
      ],
      "text/plain": [
       "       m_id                                            content\n",
       "rf_id                                                         \n",
       "2        79  > From: Le Vine, Debi> Sent: Thursday, August ...\n",
       "3        99  > From: Golden, Mark> Sent: Thursday, August 2...\n",
       "8       533  From: Sole, JeanneSent: Friday, August 18, 200...\n",
       "13      842  From: \\tGrigsby, Mike  Sent:\\tThursday, March ...\n",
       "14      845  From: Monaco, John [EM] [mailto:john.monaco@ci..."
      ]
     },
     "execution_count": 6,
     "metadata": {},
     "output_type": "execute_result"
    }
   ],
   "source": [
    "ref_raw = get(\"raw_referenceinfo\")\n",
    "ref = ref_raw.rename(columns = {\"rfid\" : \"rf_id\", \"mid\" : \"m_id\", \"reference\" : \"content\"})\n",
    "ref = ref.astype({\"rf_id\" : \"uint16\", \"m_id\" : \"uint32\"})\n",
    "ref = ref.set_index(\"rf_id\")\n",
    "ref = ref.drop_duplicates()\n",
    "\n",
    "#Save\n",
    "save(ref, \"references\")\n",
    "\n",
    "\n",
    "get_save(ref_raw, ref)\n",
    "ref.head()"
   ]
  },
  {
   "cell_type": "markdown",
   "metadata": {},
   "source": [
    "# Emails"
   ]
  },
  {
   "cell_type": "code",
   "execution_count": 7,
   "metadata": {
    "collapsed": true
   },
   "outputs": [],
   "source": [
    "#Save\n",
    "save(emails, \"emails\")"
   ]
  }
 ],
 "metadata": {
  "kernelspec": {
   "display_name": "Python 3",
   "language": "python",
   "name": "python3"
  },
  "language_info": {
   "codemirror_mode": {
    "name": "ipython",
    "version": 3
   },
   "file_extension": ".py",
   "mimetype": "text/x-python",
   "name": "python",
   "nbconvert_exporter": "python",
   "pygments_lexer": "ipython3",
   "version": "3.6.3"
  }
 },
 "nbformat": 4,
 "nbformat_minor": 2
}
