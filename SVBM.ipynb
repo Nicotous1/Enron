{
 "cells": [
  {
   "cell_type": "code",
   "execution_count": 1,
   "metadata": {
    "collapsed": true
   },
   "outputs": [],
   "source": [
    "import pandas as pd\n",
    "import numpy as np\n",
    "import progressbar"
   ]
  },
  {
   "cell_type": "markdown",
   "metadata": {},
   "source": [
    "# Génération"
   ]
  },
  {
   "cell_type": "code",
   "execution_count": 2,
   "metadata": {
    "collapsed": true
   },
   "outputs": [],
   "source": [
    "def generate(n, Q, alpha = None, p_epsilon = 0, p_lambda = 1):\n",
    "\n",
    "    alpha = [1/Q]*Q if alpha is None else alpha\n",
    "    if len(alpha) != Q: raise ValueError(\"Alpha has not the same length as Q\")\n",
    "\n",
    "    # Defines class\n",
    "    Z = np.zeros(n, dtype=np.uint)\n",
    "    i = 0\n",
    "    for q, n_q in enumerate(np.random.multinomial(n, alpha)):\n",
    "        for j in range(n_q):\n",
    "            Z[i] = q\n",
    "            i += 1\n",
    "        \n",
    "    # Probability matrix of connection between classes\n",
    "    pi = np.zeros((Q,Q)) + p_epsilon + np.diag([p_lambda - p_epsilon]*Q)\n",
    "\n",
    "    # Matrix of connections\n",
    "    X = np.zeros((n,n), dtype = bool)\n",
    "    for i in range(n):\n",
    "        q_i = Z[i]\n",
    "        for j in range(i):\n",
    "            q_j = Z[j]\n",
    "            bound = bool(np.random.binomial(1, pi[q_i][q_j]))\n",
    "            X[i][j] = bound\n",
    "            X[j][i] = bound\n",
    "    \n",
    "    return X, Z"
   ]
  },
  {
   "cell_type": "code",
   "execution_count": 4,
   "metadata": {},
   "outputs": [
    {
     "data": {
      "text/plain": [
       "array([[False,  True,  True, ...,  True, False,  True],\n",
       "       [ True, False,  True, ..., False,  True,  True],\n",
       "       [ True,  True, False, ...,  True, False, False],\n",
       "       ..., \n",
       "       [ True, False,  True, ..., False,  True,  True],\n",
       "       [False,  True, False, ...,  True, False,  True],\n",
       "       [ True,  True, False, ...,  True,  True, False]], dtype=bool)"
      ]
     },
     "execution_count": 4,
     "metadata": {},
     "output_type": "execute_result"
    }
   ],
   "source": [
    "n, Q = 100, 3\n",
    "X, Z = generate(n, Q, alpha = [2/10, 6/10, 2/10], p_epsilon = 0.3, p_lambda = 0.7)\n",
    "X"
   ]
  },
  {
   "cell_type": "markdown",
   "metadata": {},
   "source": [
    "# EM"
   ]
  },
  {
   "cell_type": "code",
   "execution_count": 5,
   "metadata": {
    "collapsed": true
   },
   "outputs": [],
   "source": [
    "def norm(tau_old, tau_new):\n",
    "    s = 0\n",
    "    for i in range(n):\n",
    "        for q in range(Q):\n",
    "               s += abs(tau_old[i][q] - tau_new[i][q])\n",
    "    return s\n",
    "\n",
    "# Not good -> need a K-means\n",
    "def error(tau, Z):\n",
    "    n_error = 0\n",
    "    for i in range(len(Z)):\n",
    "        if Z[i] != tau[i].argmax():\n",
    "            n_error += 1\n",
    "    return str(round(n_error/len(Z)*100,2)) + \"% d'erreur\""
   ]
  },
  {
   "cell_type": "code",
   "execution_count": 6,
   "metadata": {},
   "outputs": [
    {
     "name": "stderr",
     "output_type": "stream",
     "text": [
      " 16% (14811 of 90000) |###                | Elapsed Time: 0:00:00 ETA:  0:00:00"
     ]
    },
    {
     "name": "stdout",
     "output_type": "stream",
     "text": [
      "Initialisation...\n"
     ]
    },
    {
     "name": "stderr",
     "output_type": "stream",
     "text": [
      " 12% (3798 of 30000) |##                  | Elapsed Time: 0:00:00 ETA:  0:00:01"
     ]
    },
    {
     "name": "stdout",
     "output_type": "stream",
     "text": [
      "Maximisation...\n"
     ]
    },
    {
     "name": "stderr",
     "output_type": "stream",
     "text": [
      " 15% (4557 of 30000) |###                 | Elapsed Time: 0:00:00 ETA:  0:00:01"
     ]
    },
    {
     "name": "stdout",
     "output_type": "stream",
     "text": [
      "184.635637448\n"
     ]
    },
    {
     "name": "stderr",
     "output_type": "stream",
     "text": [
      " 96% (28861 of 30000) |################## | Elapsed Time: 0:00:01 ETA:  0:00:00"
     ]
    },
    {
     "name": "stdout",
     "output_type": "stream",
     "text": [
      "0.0\n",
      "Done\n"
     ]
    }
   ],
   "source": [
    "from math import exp\n",
    "from scipy.special import digamma\n",
    "from sklearn.cluster import KMeans\n",
    "\n",
    "kmeans = KMeans(n_clusters=Q).fit(X)\n",
    "tau_new = np.zeros((n, Q))\n",
    "for i, q in enumerate(kmeans.labels_):\n",
    "    tau_new[i][q] = 1\n",
    "\n",
    "\n",
    "print(\"Initialisation...\")\n",
    "N = np.zeros(Q)\n",
    "eta = np.zeros((Q, n))\n",
    "zeta = np.zeros((Q, n))\n",
    "bar = progressbar.ProgressBar(max_value=Q*Q*n*n)\n",
    "for q in range(Q):\n",
    "    # N\n",
    "    s_N = 0.5\n",
    "    for i in range(n):\n",
    "        s_N += tau_new[i][q]\n",
    "    N[q] = s_N\n",
    "\n",
    "    # Eta\n",
    "    for l in range(Q):\n",
    "        s_eta = 0.5 #eta0\n",
    "        s_zeta = 0.5 #zeta0\n",
    "        for j in range(n):\n",
    "            for i in range(n):\n",
    "                bar.update(i + j*n + l*n*n + q*Q*n*n)\n",
    "                if (q == l and j <= i): break\n",
    "                if i == j: continue\n",
    "\n",
    "                s_eta += X[i][j]*tau_new[i][q]*tau_new[j][l]\n",
    "                s_zeta += (1-X[i][j])*tau_new[i][q]*tau_new[j][l]\n",
    "\n",
    "        eta[q][l] = s_eta\n",
    "        zeta[q][l] = s_zeta\n",
    "\n",
    "        if (s_eta < 0):\n",
    "            raise ValueError(s_eta)           \n",
    "        if (s_zeta < 0):\n",
    "            raise ValueError(s_zeta)\n",
    "            \n",
    "            \n",
    "print(\"Maximisation...\")\n",
    "for iterr in range(30):\n",
    "    bar = progressbar.ProgressBar(max_value=n*Q*n)\n",
    "    \n",
    "    # Maximisation\n",
    "    tau_old = tau_new\n",
    "    tau_new = np.zeros((n, Q))\n",
    "    for i in range(n):\n",
    "        for q in range(Q):\n",
    "            p = exp(digamma(N[q])-digamma(sum(N)))\n",
    "            for j in range(n):\n",
    "                bar.update(j + q*n +i*Q*n)\n",
    "                if (i==j): continue\n",
    "                for l in range(Q):\n",
    "                    a = digamma(zeta[q][l])\\\n",
    "                         - digamma(eta[q][l] + zeta[q][l])\\\n",
    "                         + X[i][j]*(digamma(eta[q][l]) - digamma(zeta[q][l]))\n",
    "                    a *= tau_new[j][l]\n",
    "                    p *= exp(a)\n",
    "            tau_new[i][q] = p\n",
    "        tau_new[i] *= 1/sum(tau_new[i])\n",
    "    \n",
    "    delta = norm(tau_new, tau_old)\n",
    "    print(delta)\n",
    "    if (delta < 10E-6):\n",
    "        break\n",
    "print(\"Done\")"
   ]
  },
  {
   "cell_type": "code",
   "execution_count": 7,
   "metadata": {},
   "outputs": [
    {
     "data": {
      "text/plain": [
       "x  y\n",
       "0  0     2\n",
       "   2    13\n",
       "1  0    48\n",
       "   1     3\n",
       "   2     6\n",
       "2  1    14\n",
       "   2    14\n",
       "dtype: int64"
      ]
     },
     "execution_count": 7,
     "metadata": {},
     "output_type": "execute_result"
    }
   ],
   "source": [
    "res = []\n",
    "for i in range(len(Z)):\n",
    "    res.append([Z[i], tau_new[i].argmax()])\n",
    "res = pd.DataFrame(res, columns = [\"x\", \"y\"])\n",
    "res.groupby([\"x\", \"y\"]).size().sort_index()"
   ]
  },
  {
   "cell_type": "markdown",
   "metadata": {},
   "source": [
    "# Build real network"
   ]
  },
  {
   "cell_type": "code",
   "execution_count": null,
   "metadata": {
    "collapsed": true
   },
   "outputs": [],
   "source": [
    "def load(name):\n",
    "    return pd.read_pickle(\"data/\" + name + \".pickle\")"
   ]
  },
  {
   "cell_type": "code",
   "execution_count": null,
   "metadata": {
    "collapsed": true
   },
   "outputs": [],
   "source": [
    "emails = load(\"emails\")\n",
    "emails.head()"
   ]
  },
  {
   "cell_type": "code",
   "execution_count": null,
   "metadata": {
    "collapsed": true
   },
   "outputs": [],
   "source": [
    "ms = load(\"messages\")\n",
    "ms.head()"
   ]
  },
  {
   "cell_type": "code",
   "execution_count": null,
   "metadata": {
    "collapsed": true
   },
   "outputs": [],
   "source": [
    "rs = load(\"recipients\")\n",
    "rs.head()"
   ]
  },
  {
   "cell_type": "code",
   "execution_count": null,
   "metadata": {
    "collapsed": true,
    "scrolled": true
   },
   "outputs": [],
   "source": [
    "rs = rs.loc[rs.m_id.isin(ms.index.values)]\n",
    "X_bounds = rs.join(ms, on = \"m_id\", rsuffix=\"_sender\")[[\"e_id_sender\", \"e_id\"]].drop_duplicates().rename(columns = {\"e_id_sender\" : \"sender_id\", \"e_id\" : \"recipient_id\"})"
   ]
  },
  {
   "cell_type": "code",
   "execution_count": null,
   "metadata": {
    "collapsed": true
   },
   "outputs": [],
   "source": [
    "X_bounds.head()"
   ]
  },
  {
   "cell_type": "code",
   "execution_count": null,
   "metadata": {
    "collapsed": true
   },
   "outputs": [],
   "source": [
    "n = max(ms.e_id.max(), rs.e_id.max()) + 1\n",
    "X = np.zeros((n,n), dtype=bool)\n",
    "X.shape\n",
    "\n",
    "bar = progressbar.ProgressBar(max_value=X_bounds.shape[0])\n",
    "for index, row in bar(X_bounds.iterrows()):\n",
    "    a,b = row[\"sender_id\"], row[\"recipient_id\"]\n",
    "    X[a][b] = True\n",
    "    X[b][a] = True"
   ]
  }
 ],
 "metadata": {
  "kernelspec": {
   "display_name": "Python 3",
   "language": "python",
   "name": "python3"
  },
  "language_info": {
   "codemirror_mode": {
    "name": "ipython",
    "version": 3
   },
   "file_extension": ".py",
   "mimetype": "text/x-python",
   "name": "python",
   "nbconvert_exporter": "python",
   "pygments_lexer": "ipython3",
   "version": "3.6.3"
  }
 },
 "nbformat": 4,
 "nbformat_minor": 2
}
