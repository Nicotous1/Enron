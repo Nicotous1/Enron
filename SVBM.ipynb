{
 "cells": [
  {
   "cell_type": "code",
   "execution_count": 4,
   "metadata": {},
   "outputs": [],
   "source": [
    "import pandas as pd\n",
    "import numpy as np\n",
    "import progressbar"
   ]
  },
  {
   "cell_type": "markdown",
   "metadata": {},
   "source": [
    "# Génération"
   ]
  },
  {
   "cell_type": "code",
   "execution_count": 15,
   "metadata": {},
   "outputs": [],
   "source": [
    "def generate(n, Q, alpha = None, p_epsilon = 0, p_lambda = 1):\n",
    "\n",
    "    alpha = [1/Q]*Q if alpha is None else alpha\n",
    "\n",
    "    # Defines class\n",
    "    Z = np.zeros(n, dtype=np.uint)\n",
    "    i = 0\n",
    "    for q, n_q in enumerate(np.random.multinomial(n, alpha)):\n",
    "        for j in range(n_q):\n",
    "            Z[i] = q\n",
    "            i += 1\n",
    "        \n",
    "    # Probability matrix of connection between classes\n",
    "    pi = np.zeros((Q,Q)) + p_epsilon + np.diag([p_lambda - p_epsilon]*Q)\n",
    "\n",
    "    # Matrix of connections\n",
    "    X = np.zeros((n,n), dtype = bool)\n",
    "    for i in range(n):\n",
    "        q_i = Z[i]\n",
    "        for j in range(i):\n",
    "            q_j = Z[j]\n",
    "            bound = bool(np.random.binomial(1, pi[q_i][q_j]))\n",
    "            X[i][j] = bound\n",
    "            X[j][i] = bound\n",
    "    \n",
    "    return X, Z"
   ]
  },
  {
   "cell_type": "code",
   "execution_count": 16,
   "metadata": {},
   "outputs": [
    {
     "data": {
      "text/plain": [
       "array([[False,  True,  True, ..., False, False, False],\n",
       "       [ True, False,  True, ..., False, False, False],\n",
       "       [ True,  True, False, ..., False, False, False],\n",
       "       ..., \n",
       "       [False, False, False, ..., False,  True,  True],\n",
       "       [False, False, False, ...,  True, False,  True],\n",
       "       [False, False, False, ...,  True,  True, False]], dtype=bool)"
      ]
     },
     "execution_count": 16,
     "metadata": {},
     "output_type": "execute_result"
    }
   ],
   "source": [
    "n, Q = 100, 2\n",
    "X, Z = generate(n, Q)\n",
    "X"
   ]
  },
  {
   "cell_type": "markdown",
   "metadata": {},
   "source": [
    "# EM"
   ]
  },
  {
   "cell_type": "code",
   "execution_count": 19,
   "metadata": {},
   "outputs": [],
   "source": [
    "def norm(tau_old, tau_new):\n",
    "    s = 0\n",
    "    for i in range(n):\n",
    "        for q in range(Q):\n",
    "               s += abs(tau_old[i][q] - tau_new[i][q])\n",
    "    return s\n",
    "\n",
    "# Not good -> need a K-means\n",
    "def error(tau, Z):\n",
    "    n_error = 0\n",
    "    for i in range(len(Z)):\n",
    "        if Z[i] == tau[i].argmax():\n",
    "            n_error += 1\n",
    "    return str(round(n_error/len(Z)*100,2)) + \"% d'erreur\""
   ]
  },
  {
   "cell_type": "code",
   "execution_count": 20,
   "metadata": {},
   "outputs": [
    {
     "name": "stdout",
     "output_type": "stream",
     "text": [
      "100.0% d'erreur\n",
      "198.727506897\n",
      "\n",
      "0.0% d'erreur\n",
      "197.126682082\n",
      "\n",
      "100.0% d'erreur\n",
      "196.777770144\n",
      "\n"
     ]
    }
   ],
   "source": [
    "from math import exp\n",
    "from scipy.special import digamma\n",
    "from sklearn.cluster import KMeans\n",
    "\n",
    "kmeans = KMeans(n_clusters=Q).fit(X)\n",
    "tau_new = np.zeros((n, Q))\n",
    "for i, q in enumerate(kmeans.labels_):\n",
    "    tau_new[i][q] = 1\n",
    "\n",
    "for iterr in range(3):\n",
    "    N = np.zeros(Q)\n",
    "    for q in range(Q):\n",
    "        s = 0.5\n",
    "        for i in range(n):\n",
    "            s += tau_new[i][q]\n",
    "        N[q] = s\n",
    "        \n",
    "        \n",
    "        \n",
    "        \n",
    "    eta = np.zeros((Q, n))\n",
    "    for q in range(Q):\n",
    "        for l in range(Q):\n",
    "            s = 0.5 #eta0\n",
    "            if (q != l):\n",
    "                for i in range(n):\n",
    "                    for j in range(n):\n",
    "                        if i == j:\n",
    "                            continue\n",
    "                        else:\n",
    "                            s += X[i][j]*tau_new[i][q]*tau_new[j][l]\n",
    "            else:\n",
    "                for j in range(n):\n",
    "                    for i in range(j):\n",
    "                        s += X[i][j]*tau_new[i][q]*tau_new[j][l]\n",
    "            if (s < 0):\n",
    "                raise ValueError(s)\n",
    "            eta[q][l] = s\n",
    "            \n",
    "            \n",
    "            \n",
    "    zeta = np.zeros((Q, n))\n",
    "    for q in range(Q):\n",
    "        for l in range(Q):\n",
    "            s = 0.5 #eta0\n",
    "            if (q != l):\n",
    "                for i in range(n):\n",
    "                    for j in range(n):\n",
    "                        if i == j:\n",
    "                            continue\n",
    "                        else:\n",
    "                            s += (1-X[i][j])*tau_new[i][q]*tau_new[j][l]\n",
    "            else:\n",
    "                for j in range(n):\n",
    "                    for i in range(j):\n",
    "                        s += (1-X[i][j])*tau_new[i][q]*tau_new[j][l]\n",
    "            if (s < 0):\n",
    "                raise ValueError(s)\n",
    "            zeta[q][l] = s\n",
    "\n",
    "\n",
    "\n",
    "    tau_old = tau_new\n",
    "    tau_new = np.zeros((n, Q))\n",
    "    for i in range(n):\n",
    "        for q in range(Q):\n",
    "            p = exp(digamma(N[q])-digamma(sum(N)))\n",
    "            for j in range(n):\n",
    "                if (i==j): continue\n",
    "                for l in range(Q):\n",
    "                    a = digamma(zeta[q][l])\\\n",
    "                         - digamma(eta[q][l] + zeta[q][l])\\\n",
    "                         + X[i][j]*(digamma(eta[q][l]) - digamma(zeta[q][l]))\n",
    "                    a *= tau_new[j][l]\n",
    "                    p *= exp(a)\n",
    "            tau_new[i][q] = p\n",
    "        tau_new[i] *= 1/sum(tau_new[i])\n",
    "    \n",
    "    print(error(tau_new, Z))\n",
    "    print(norm(tau_new, tau_old))\n",
    "    print()"
   ]
  },
  {
   "cell_type": "code",
   "execution_count": null,
   "metadata": {},
   "outputs": [],
   "source": []
  },
  {
   "cell_type": "markdown",
   "metadata": {},
   "source": [
    "# Build real network"
   ]
  },
  {
   "cell_type": "code",
   "execution_count": null,
   "metadata": {},
   "outputs": [],
   "source": [
    "def load(name):\n",
    "    return pd.read_pickle(\"data/\" + name + \".pickle\")"
   ]
  },
  {
   "cell_type": "code",
   "execution_count": null,
   "metadata": {},
   "outputs": [],
   "source": [
    "emails = load(\"emails\")\n",
    "emails.head()"
   ]
  },
  {
   "cell_type": "code",
   "execution_count": null,
   "metadata": {},
   "outputs": [],
   "source": [
    "ms = load(\"messages\")\n",
    "ms.head()"
   ]
  },
  {
   "cell_type": "code",
   "execution_count": null,
   "metadata": {},
   "outputs": [],
   "source": [
    "rs = load(\"recipients\")\n",
    "rs.head()"
   ]
  },
  {
   "cell_type": "code",
   "execution_count": null,
   "metadata": {
    "scrolled": true
   },
   "outputs": [],
   "source": [
    "rs = rs.loc[rs.m_id.isin(ms.index.values)]\n",
    "X_bounds = rs.join(ms, on = \"m_id\", rsuffix=\"_sender\")[[\"e_id_sender\", \"e_id\"]].drop_duplicates().rename(columns = {\"e_id_sender\" : \"sender_id\", \"e_id\" : \"recipient_id\"})"
   ]
  },
  {
   "cell_type": "code",
   "execution_count": null,
   "metadata": {},
   "outputs": [],
   "source": [
    "X_bounds.head()"
   ]
  },
  {
   "cell_type": "code",
   "execution_count": null,
   "metadata": {},
   "outputs": [],
   "source": [
    "n = max(ms.e_id.max(), rs.e_id.max()) + 1\n",
    "X = np.zeros((n,n), dtype=bool)\n",
    "X.shape\n",
    "\n",
    "bar = progressbar.ProgressBar(max_value=X_bounds.shape[0])\n",
    "for index, row in bar(X_bounds.iterrows()):\n",
    "    a,b = row[\"sender_id\"], row[\"recipient_id\"]\n",
    "    X[a][b] = True\n",
    "    X[b][a] = True"
   ]
  }
 ],
 "metadata": {
  "kernelspec": {
   "display_name": "Python 3",
   "language": "python",
   "name": "python3"
  },
  "language_info": {
   "codemirror_mode": {
    "name": "ipython",
    "version": 3
   },
   "file_extension": ".py",
   "mimetype": "text/x-python",
   "name": "python",
   "nbconvert_exporter": "python",
   "pygments_lexer": "ipython3",
   "version": "3.6.4"
  }
 },
 "nbformat": 4,
 "nbformat_minor": 2
}
