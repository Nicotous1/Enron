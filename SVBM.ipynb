{
 "cells": [
  {
   "cell_type": "code",
   "execution_count": 59,
   "metadata": {
    "scrolled": true
   },
   "outputs": [],
   "source": [
    "import pandas as pd\n",
    "import numpy as np\n",
    "import progressbar\n",
    "from scipy.special import digamma, gammaln\n",
    "from math import log, exp\n",
    "from numpy.linalg import norm\n",
    "from sklearn.cluster import KMeans\n",
    "\n",
    "\n",
    "class Raw_SBM(object):\n",
    "    def __init__(self, X):\n",
    "        self.X = X\n",
    "        self.N = len(X)\n",
    "        \n",
    "        \n",
    "        \n",
    "class HofWig_SBM(Raw_SBM):\n",
    "    def __init__(self, n, Q, alpha = None, p_epsilon = 0.1, p_lambda = 0.9):\n",
    "        \n",
    "        if alpha is None:\n",
    "            a = np.random.uniform(size=Q)\n",
    "            alpha = a/a.sum()\n",
    "        if len(alpha) != Q: raise ValueError(\"Alpha has not the same length as Q\")\n",
    "\n",
    "        # Defines class\n",
    "        Z = np.zeros(n, dtype=np.uint)\n",
    "        i = 0\n",
    "        for q, n_q in enumerate(np.random.multinomial(n, alpha)):\n",
    "            for j in range(n_q):\n",
    "                Z[i] = q\n",
    "                i += 1\n",
    "\n",
    "        # Probability matrix of connection between classes\n",
    "        pi = np.zeros((Q,Q)) + p_epsilon + np.diag([p_lambda - p_epsilon]*Q)\n",
    "\n",
    "        # Matrix of connections\n",
    "        X = np.zeros((n,n), dtype = bool)\n",
    "        for i in range(n):\n",
    "            q_i = Z[i]\n",
    "            for j in range(i):\n",
    "                q_j = Z[j]\n",
    "                bound = bool(np.random.binomial(1, pi[q_i][q_j]))\n",
    "                X[i][j] = bound\n",
    "                X[j][i] = bound\n",
    "\n",
    "        self.Z = Z\n",
    "        self.Q = Q\n",
    "        \n",
    "        super(HofWig_SBM, self).__init__(X)\n",
    "        \n",
    "        \n",
    "        \n",
    "\n",
    "class SVBM(object):\n",
    "    \n",
    "    def __init__(self, net, Q = None):\n",
    "        self.net = net\n",
    "        self.Q = net.Q if Q is None else Q\n",
    "        \n",
    "    def _init_tau(self):\n",
    "        #Shortcut\n",
    "        net = self.net \n",
    "        Q, N = self.Q, self.net.N\n",
    "        \n",
    "        kmeans = KMeans(n_clusters=Q).fit(net.X)\n",
    "        self.tau = np.zeros((N, Q))\n",
    "        for i, q in enumerate(kmeans.labels_):\n",
    "            self.tau[i][q] = 1\n",
    "            \n",
    "        return self.tau\n",
    "            \n",
    "    def _init_theta(self):\n",
    "        #Shortcut\n",
    "        X = self.net.X\n",
    "        N = self.net.N\n",
    "        Q = self.Q\n",
    "        \n",
    "        self.n = np.zeros(Q)\n",
    "        self.eta = np.zeros((Q, N))\n",
    "        self.zeta = np.zeros((Q, N))\n",
    "        for q in range(Q):\n",
    "            # N\n",
    "            s_n = 0.5\n",
    "            for i in range(N):\n",
    "                s_n += self.tau[i][q]\n",
    "            self.n[q] = s_n\n",
    "\n",
    "            # Eta\n",
    "            for l in range(Q):\n",
    "                s_eta, s_zeta = 0.5, 0.5 # Default value\n",
    "                for j in range(N):\n",
    "                    for i in range(N):\n",
    "                        if (q == l and j <= i): break\n",
    "                        if i == j: continue\n",
    "\n",
    "                        s_eta += X[i][j]*self.tau[i][q]*self.tau[j][l]\n",
    "                        s_zeta += (1-X[i][j])*self.tau[i][q]*self.tau[j][l]\n",
    "\n",
    "                self.eta[q][l] = s_eta\n",
    "                self.zeta[q][l] = s_zeta\n",
    "\n",
    "                if (s_eta < 0):\n",
    "                    raise ValueError(s_eta)           \n",
    "                if (s_zeta < 0):\n",
    "                    raise ValueError(s_zeta)    \n",
    "        \n",
    "        return self.n, self.eta, self.zeta\n",
    "    \n",
    "    \n",
    "    def run(self):\n",
    "        #Shortcut\n",
    "        Q, N, X = self.Q, self.net.N, self.net.X\n",
    "         \n",
    "        # Init\n",
    "        print(\"Initialisation...\")\n",
    "        self._init_tau()\n",
    "        n, eta, zeta = self._init_theta()\n",
    "        \n",
    "        print(\"Running...\")\n",
    "        for iterr in range(31):\n",
    "            delta = 0\n",
    "\n",
    "            # Maximisation\n",
    "            for i in range(N):\n",
    "                tau_i = np.zeros(Q)\n",
    "                for q in range(Q):\n",
    "                    p = exp(digamma(n[q])-digamma(sum(n)))\n",
    "                    for j in range(N):\n",
    "                        if (i==j): continue\n",
    "                        for l in range(Q):\n",
    "                            a = digamma(zeta[q][l])\\\n",
    "                                 - digamma(eta[q][l] + zeta[q][l])\\\n",
    "                                 + X[i][j]*(digamma(eta[q][l]) - digamma(zeta[q][l]))\n",
    "                            a *= self.tau[j][l]\n",
    "                            p *= exp(a)\n",
    "                    tau_i[q] = p\n",
    "                tau_i *= 1/sum(tau_i)\n",
    "                delta += norm(tau_i - self.tau[i])\n",
    "                self.tau[i] = tau_i\n",
    "\n",
    "            # Update intern variable\n",
    "            self.lower_bound = self._lower_bound_aprox()\n",
    "            \n",
    "            # Show\n",
    "            print(\"Iteration n°\" + str(iterr+1) + \" :\"\\\n",
    "                  + \"\\n\\tLower bound : \" + str(self.lower_bound)\\\n",
    "                  + \"\\n\\tDelta : \" + str(delta))\n",
    "            \n",
    "            # Break condition\n",
    "            if (30 <= iterr):\n",
    "                print(\"No convergence !\")\n",
    "                break\n",
    "            if (delta < 10E-4):\n",
    "                print(\"EM has converged\")\n",
    "                break\n",
    "                \n",
    "        return self\n",
    "                \n",
    "    def compare(self):\n",
    "        Z = s.net.Z\n",
    "        if Z is None:\n",
    "            raise ValueError(\"This network does not have a Z variable. SVBM can't compare !\")\n",
    "            \n",
    "        res = []\n",
    "        for i, z in enumerate(Z):\n",
    "            res.append([z, self.tau[i].argmax()])\n",
    "        return pd.DataFrame(res, columns=[\"Z\", \"Tau\"]).groupby([\"Z\", \"Tau\"]).size()\n",
    "\n",
    "    \n",
    "    def _lower_bound_aprox(self):\n",
    "        # Shortcut\n",
    "        N, eta, zeta, tau = self.n, self.eta, self.zeta, self.tau\n",
    "        n, Q = tau.shape\n",
    "        \n",
    "        s = 0\n",
    "        \n",
    "        s += gammaln(Q*0.5) - gammaln(sum(N)) - Q*gammaln(0.5)\n",
    "        for q in range(Q):\n",
    "            s += gammaln(N[q])\n",
    "\n",
    "        s += (Q*(Q+1)*0.5)*(gammaln(1) - 2*gammaln(0.5))\n",
    "        for l in range(Q):\n",
    "            for q in range(l+1):\n",
    "                s += gammaln(eta[q][l]) + gammaln(zeta[q][l]) - gammaln(eta[q][l]*zeta[q][l])\n",
    "\n",
    "        for i in range(n):\n",
    "            for q in range(Q):\n",
    "                s -= tau[i][q]*log(tau[i][q])\n",
    "\n",
    "        return s"
   ]
  },
  {
   "cell_type": "code",
   "execution_count": 62,
   "metadata": {
    "scrolled": false
   },
   "outputs": [
    {
     "name": "stdout",
     "output_type": "stream",
     "text": [
      "Initialisation...\n",
      "Running...\n",
      "Iteration n°1 :\n",
      "\tLower bound : -26539806.8625\n",
      "\tDelta : 5.4705162366e-08\n",
      "EM has converged\n"
     ]
    },
    {
     "data": {
      "text/plain": [
       "Z  Tau\n",
       "0  0      34\n",
       "1  1      66\n",
       "dtype: int64"
      ]
     },
     "execution_count": 62,
     "metadata": {},
     "output_type": "execute_result"
    }
   ],
   "source": [
    "net = HofWig_SBM(100, 2, p_epsilon = 0.3, p_lambda = 0.7)\n",
    "s = SVBM(net)\n",
    "s.run().compare()"
   ]
  },
  {
   "cell_type": "markdown",
   "metadata": {},
   "source": [
    "# Build real network"
   ]
  },
  {
   "cell_type": "code",
   "execution_count": null,
   "metadata": {},
   "outputs": [],
   "source": [
    "def load(name):\n",
    "    return pd.read_pickle(\"data/\" + name + \".pickle\")"
   ]
  },
  {
   "cell_type": "code",
   "execution_count": null,
   "metadata": {},
   "outputs": [],
   "source": [
    "emails = load(\"emails\")\n",
    "emails.head()"
   ]
  },
  {
   "cell_type": "code",
   "execution_count": null,
   "metadata": {},
   "outputs": [],
   "source": [
    "ms = load(\"messages\")\n",
    "ms.head()"
   ]
  },
  {
   "cell_type": "code",
   "execution_count": null,
   "metadata": {},
   "outputs": [],
   "source": [
    "rs = load(\"recipients\")\n",
    "rs.head()"
   ]
  },
  {
   "cell_type": "code",
   "execution_count": null,
   "metadata": {
    "scrolled": true
   },
   "outputs": [],
   "source": [
    "rs = rs.loc[rs.m_id.isin(ms.index.values)]\n",
    "X_bounds = rs.join(ms, on = \"m_id\", rsuffix=\"_sender\")[[\"e_id_sender\", \"e_id\"]].drop_duplicates().rename(columns = {\"e_id_sender\" : \"sender_id\", \"e_id\" : \"recipient_id\"})"
   ]
  },
  {
   "cell_type": "code",
   "execution_count": null,
   "metadata": {},
   "outputs": [],
   "source": [
    "X_bounds.head()"
   ]
  },
  {
   "cell_type": "code",
   "execution_count": null,
   "metadata": {},
   "outputs": [],
   "source": [
    "n = max(ms.e_id.max(), rs.e_id.max()) + 1\n",
    "X = np.zeros((n,n), dtype=bool)\n",
    "X.shape\n",
    "\n",
    "bar = progressbar.ProgressBar(max_value=X_bounds.shape[0])\n",
    "for index, row in bar(X_bounds.iterrows()):\n",
    "    a,b = row[\"sender_id\"], row[\"recipient_id\"]\n",
    "    X[a][b] = True\n",
    "    X[b][a] = True"
   ]
  },
  {
   "cell_type": "code",
   "execution_count": null,
   "metadata": {},
   "outputs": [],
   "source": [
    "from numpy.linalg import norm\n",
    "norm(tau_old - tau_new)"
   ]
  }
 ],
 "metadata": {
  "kernelspec": {
   "display_name": "Python 3",
   "language": "python",
   "name": "python3"
  },
  "language_info": {
   "codemirror_mode": {
    "name": "ipython",
    "version": 3
   },
   "file_extension": ".py",
   "mimetype": "text/x-python",
   "name": "python",
   "nbconvert_exporter": "python",
   "pygments_lexer": "ipython3",
   "version": "3.6.4"
  }
 },
 "nbformat": 4,
 "nbformat_minor": 2
}
